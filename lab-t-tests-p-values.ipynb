{
 "cells": [
  {
   "cell_type": "code",
   "execution_count": 1,
   "id": "5573d667-3723-4555-8be2-8c8578703c60",
   "metadata": {},
   "outputs": [],
   "source": [
    "# Importing the library\n",
    "\n",
    "import pandas as pd\n",
    "from math import sqrt\n",
    "from numpy.random import seed\n",
    "from numpy.random import randn\n",
    "from numpy import mean\n",
    "from scipy.stats import sem\n",
    "from scipy.stats import t\n",
    "\n",
    "import scikit_posthocs as sp\n",
    "import numpy as np\n",
    "from scipy import stats"
   ]
  },
  {
   "cell_type": "markdown",
   "id": "eced247f-d180-4451-82c5-c2e48ea56295",
   "metadata": {},
   "source": [
    "In a packing plant, a machine packs cartons with jars. It is supposed that a new machine will pack faster on the average than the machine currently used. \n",
    "To test that hypothesis, the times it takes each machine to pack ten cartons are recorded. \n",
    "The results, in seconds, are shown in the tables in the file files_for_lab/machine.txt. Assume that there is sufficient evidence to conduct the t test, does the data provide sufficient evidence to show if one machine is better than the other?"
   ]
  },
  {
   "cell_type": "code",
   "execution_count": 2,
   "id": "ba0d9378-819c-480b-bb9c-a7eff09b397a",
   "metadata": {},
   "outputs": [],
   "source": [
    "new = [42.1, 41, 41.3, 41.8, 42.4, 42.8, 43.2, 42.3, 41.8, 42.7]\n",
    "old = [42.7, 43.6, 43.8, 43.3,42.5, 43.5, 43.1, 41.7, 44, 44.1]"
   ]
  },
  {
   "cell_type": "code",
   "execution_count": 3,
   "id": "d692e79f-0643-477f-97e9-26c81088cb9c",
   "metadata": {},
   "outputs": [],
   "source": [
    "# Set the hypothesis\n",
    "H = 'Both Machines pack at the same speed'\n"
   ]
  },
  {
   "cell_type": "markdown",
   "id": "b272c112-507e-459c-899f-83d1cd6c8a1e",
   "metadata": {},
   "source": [
    "#### Test for a Normal distribution: Shapiro test"
   ]
  },
  {
   "cell_type": "code",
   "execution_count": 4,
   "id": "d9486239-48c5-4fe0-b025-68f6055eb77a",
   "metadata": {},
   "outputs": [],
   "source": [
    "def check_normality(data, significance):\n",
    "    test_stat_normality , p_value_normality = stats.shapiro(data)\n",
    "    print(\"pvalue\", p_value_normality)\n",
    "    if p_value_normality < significance:\n",
    "        print(\"Accept: \" + H)\n",
    "    else:\n",
    "        print(\"Reject: \" + H)"
   ]
  },
  {
   "cell_type": "code",
   "execution_count": 5,
   "id": "a8b92ac1-0382-42a1-ac76-99d06d5ba8de",
   "metadata": {},
   "outputs": [],
   "source": [
    "def homocedasticity(group1, group2, significance):\n",
    "    test_stats_var, p_value_var = stats.levene(group1, group2)\n",
    "    print(\"pvalue\", p_value_var)\n",
    "    if p_value_var < significance:\n",
    "        print(\"Reject hypothesis: variances are different\")\n",
    "    else:\n",
    "        print(\"No evidence to reject the hypothesis: variances are the same\")"
   ]
  },
  {
   "cell_type": "code",
   "execution_count": 6,
   "id": "6a9e1be0-5b49-4f86-91f5-d778b3ad2113",
   "metadata": {},
   "outputs": [
    {
     "name": "stdout",
     "output_type": "stream",
     "text": [
      "pvalue 0.5010352730751038\n",
      "Reject: Both Machines pack at the same speed\n",
      "pvalue 0.9675759673118591\n",
      "Reject: Both Machines pack at the same speed\n",
      "pvalue 0.8794907728819111\n",
      "No evidence to reject the hypothesis: variances are the same\n"
     ]
    }
   ],
   "source": [
    "check_normality(old, 0.05)\n",
    "check_normality(new, 0.05)\n",
    "homocedasticity(old,new, 0.05)"
   ]
  },
  {
   "cell_type": "code",
   "execution_count": 7,
   "id": "46682ee1-4da4-4b3b-94e9-092cfb4af215",
   "metadata": {},
   "outputs": [
    {
     "name": "stdout",
     "output_type": "stream",
     "text": [
      "pvalue 0.0032111425007745158\n",
      "since the hypothesis is one sided >> use pvalue/2 >> pvalue one sided  0.0016055712503872579\n",
      "Reject Hypothesis: There is no difference in performance of old and new machine\n"
     ]
    }
   ],
   "source": [
    "ttest, pvalue = stats.ttest_ind(new, old)\n",
    "print(\"pvalue\", pvalue)\n",
    "print(\"since the hypothesis is one sided >> use pvalue/2 >> pvalue one sided \", pvalue/2)\n",
    "if pvalue/2 < 0.05:\n",
    "    print(\"Reject Hypothesis: There is no difference in performance of old and new machine\")\n",
    "else:\n",
    "    print(\"No evidence to reject the hypothesis\")"
   ]
  },
  {
   "cell_type": "markdown",
   "id": "b3e1e608-548f-4e94-bd4d-2843062e4262",
   "metadata": {},
   "source": [
    "#### Excercise 2"
   ]
  },
  {
   "cell_type": "code",
   "execution_count": 8,
   "id": "d1a58e92-f9fe-4f84-9ed5-897e47d2c87c",
   "metadata": {},
   "outputs": [],
   "source": [
    "sophomores = [3.04, 1.71, 3.3, 2.88, 2.11, 2.6, 2.92, 3.6, 2.28, 2.82, 3.03, 3.13, 2.86, 3.49,3.11, 2.13, 3.27]\n",
    "juniors = [ 2.56,2.77, 2.7, 3, 2.98, 3.47,3.26, 3.2, 3.19, 2.65, 3, 3.39, 2.58]"
   ]
  },
  {
   "cell_type": "code",
   "execution_count": 9,
   "id": "14e57c35-9699-48e2-9ab1-c7bcb9fd59f5",
   "metadata": {},
   "outputs": [],
   "source": [
    "# Set the hypothesis\n",
    "\n",
    "H0 = 'The mean GPAs of sophomores and juniors at the University is the same'"
   ]
  },
  {
   "cell_type": "code",
   "execution_count": 10,
   "id": "de120e50-09b8-496d-910c-3d8ba0d67a56",
   "metadata": {},
   "outputs": [],
   "source": [
    "def check__normality(data, significance):\n",
    "    test_stat_normality , p_value_normality = stats.shapiro(data)\n",
    "    print(\"pvalue\", p_value_normality)\n",
    "    if p_value_normality < significance:\n",
    "        print(\"Accept: \" + H0)\n",
    "    else:\n",
    "        print(\"Reject: \" + H0)"
   ]
  },
  {
   "cell_type": "code",
   "execution_count": 11,
   "id": "88052cd7-4d7c-44b8-802f-57cd3a5ef83c",
   "metadata": {},
   "outputs": [
    {
     "name": "stdout",
     "output_type": "stream",
     "text": [
      "pvalue 0.31541088223457336\n",
      "Reject: The mean GPAs of sophomores and juniors at the University is the same\n",
      "pvalue 0.4130076467990875\n",
      "Reject: The mean GPAs of sophomores and juniors at the University is the same\n"
     ]
    }
   ],
   "source": [
    "check__normality(sophomores,0.05)\n",
    "check__normality(juniors,0.05)"
   ]
  },
  {
   "cell_type": "code",
   "execution_count": 12,
   "id": "cb22e877-620c-4468-9ffd-9fd680605aa9",
   "metadata": {},
   "outputs": [
    {
     "name": "stdout",
     "output_type": "stream",
     "text": [
      "T-test: -0.9231495630900278\n",
      "P-value: 0.3642180675348571\n",
      "No evidence to reject H0\n"
     ]
    }
   ],
   "source": [
    "ttest, pvalue = stats.ttest_ind(sophomores, juniors, equal_var=False)\n",
    "print(\"T-test: \"+ str(ttest))\n",
    "print(\"P-value: \" + str(pvalue))\n",
    "alpha = 0.05\n",
    "\n",
    "\n",
    "if pvalue <alpha:\n",
    "    print(\"Reject H0: There is no difference in speed between the two machinesd\")\n",
    "else:\n",
    "    print(\"No evidence to reject H0\")"
   ]
  }
 ],
 "metadata": {
  "kernelspec": {
   "display_name": "Python 3 (ipykernel)",
   "language": "python",
   "name": "python3"
  },
  "language_info": {
   "codemirror_mode": {
    "name": "ipython",
    "version": 3
   },
   "file_extension": ".py",
   "mimetype": "text/x-python",
   "name": "python",
   "nbconvert_exporter": "python",
   "pygments_lexer": "ipython3",
   "version": "3.9.12"
  }
 },
 "nbformat": 4,
 "nbformat_minor": 5
}
